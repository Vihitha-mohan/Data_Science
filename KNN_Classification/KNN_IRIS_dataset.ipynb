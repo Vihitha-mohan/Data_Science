{
 "cells": [
  {
   "cell_type": "markdown",
   "id": "b152c36f",
   "metadata": {},
   "source": [
    "SKlearn Iris Data Set"
   ]
  },
  {
   "cell_type": "markdown",
   "id": "bfddfaba",
   "metadata": {},
   "source": [
    "Step 1 :Load the dataset"
   ]
  },
  {
   "cell_type": "code",
   "execution_count": 1,
   "id": "7b694782",
   "metadata": {},
   "outputs": [
    {
     "name": "stdout",
     "output_type": "stream",
     "text": [
      "Feature \n",
      " ['sepal length (cm)', 'sepal width (cm)', 'petal length (cm)', 'petal width (cm)']\n",
      "Target \n",
      " ['setosa' 'versicolor' 'virginica']\n"
     ]
    }
   ],
   "source": [
    "from sklearn.datasets import load_iris\n",
    "iris = load_iris()\n",
    "X = iris.data\n",
    "y = iris.target\n",
    "feature_names = iris.feature_names\n",
    "target_names = iris.target_names\n",
    "print(\"Feature \\n\",feature_names)\n",
    "print(\"Target \\n\",target_names)\n",
    "\n"
   ]
  },
  {
   "cell_type": "markdown",
   "id": "f967eabc",
   "metadata": {},
   "source": [
    "Step2 :Splitting data from training and testing\n",
    "Split the dataset into two pieces: a training set and a testing set.\n",
    "Train the model on the training set.\n",
    "Test the model on the testing set and evaluate how well our model did."
   ]
  },
  {
   "cell_type": "code",
   "execution_count": 2,
   "id": "2c081edb",
   "metadata": {},
   "outputs": [
    {
     "name": "stdout",
     "output_type": "stream",
     "text": [
      "X_train Shape: (90, 4)\n",
      "X_test Shape: (60, 4)\n",
      "Y_train Shape: (90,)\n",
      "Y_test Shape:  (60,)\n"
     ]
    }
   ],
   "source": [
    "from sklearn.model_selection import train_test_split\n",
    "X_train, X_test, y_train, y_test = train_test_split(X, y, test_size=0.4, random_state=1)\n",
    "print(\"X_train Shape:\",  X_train.shape)\n",
    "print(\"X_test Shape:\", X_test.shape)\n",
    "\n",
    "print(\"Y_train Shape:\", y_train.shape)\n",
    "print(\"Y_test Shape: \",y_test.shape)"
   ]
  },
  {
   "cell_type": "markdown",
   "id": "45f6e2b9",
   "metadata": {},
   "source": [
    "train_test_split:\n",
    "X, y: These are the feature matrix and response vector which need to be split.\n",
    "test_size: It is the ratio of test data to the given data. For example, setting test_size = 0.4 for 150 rows of X produces test data of 150 x 0.4 = 60 rows.\n",
    "random_state: If you use random_state = some_number, then you can guarantee that your split will be always the same. This is useful if you want reproducible results, "
   ]
  },
  {
   "cell_type": "markdown",
   "id": "2ec20bf7",
   "metadata": {},
   "source": [
    "Step3 : Training the model\n",
    "Uses KNN (K nearest neighbors) classifier."
   ]
  },
  {
   "cell_type": "code",
   "execution_count": 3,
   "id": "7af6e1fd",
   "metadata": {},
   "outputs": [
    {
     "name": "stdout",
     "output_type": "stream",
     "text": [
      "KNN model accuracy 0.9833333333333333\n"
     ]
    }
   ],
   "source": [
    "# training the model on training set\n",
    "from sklearn.neighbors import KNeighborsClassifier\n",
    "knn = KNeighborsClassifier(n_neighbors=3)\n",
    "knn.fit(X_train, y_train)\n",
    "\n",
    "# making predictions on the testing set\n",
    "y_pred = knn.predict(X_test)\n",
    "\n",
    "# comparing actual response values (y_test) with predicted response values (y_pred)\n",
    "from sklearn import metrics\n",
    "print(\"KNN model accuracy\", metrics.accuracy_score(y_test, y_pred))\n",
    "\n"
   ]
  },
  {
   "cell_type": "code",
   "execution_count": 4,
   "id": "d95ff784",
   "metadata": {},
   "outputs": [
    {
     "name": "stdout",
     "output_type": "stream",
     "text": [
      "Predictions ['versicolor']\n"
     ]
    }
   ],
   "source": [
    "# making prediction for out of sample data\n",
    "sample = [[4, 3, 3, 0]]\n",
    "preds = knn.predict(sample)\n",
    "print(\"Predictions\", iris.target_names[preds])"
   ]
  },
  {
   "cell_type": "code",
   "execution_count": null,
   "id": "ebe15dbf",
   "metadata": {},
   "outputs": [],
   "source": []
  }
 ],
 "metadata": {
  "kernelspec": {
   "display_name": "Python 3",
   "language": "python",
   "name": "python3"
  },
  "language_info": {
   "codemirror_mode": {
    "name": "ipython",
    "version": 3
   },
   "file_extension": ".py",
   "mimetype": "text/x-python",
   "name": "python",
   "nbconvert_exporter": "python",
   "pygments_lexer": "ipython3",
   "version": "3.12.1"
  }
 },
 "nbformat": 4,
 "nbformat_minor": 5
}
